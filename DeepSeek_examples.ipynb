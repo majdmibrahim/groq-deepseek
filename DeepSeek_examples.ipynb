{
  "cells": [
    {
      "cell_type": "code",
      "execution_count": 17,
      "id": "30f1b34c",
      "metadata": {
        "colab": {
          "base_uri": "https://localhost:8080/"
        },
        "id": "30f1b34c",
        "outputId": "56aa8ac7-8ac1-4d4a-bfee-5440c2b98516"
      },
      "outputs": [
        {
          "output_type": "stream",
          "name": "stdout",
          "text": [
            "Requirement already satisfied: groq in /usr/local/lib/python3.12/dist-packages (0.31.0)\n",
            "Requirement already satisfied: anyio<5,>=3.5.0 in /usr/local/lib/python3.12/dist-packages (from groq) (4.10.0)\n",
            "Requirement already satisfied: distro<2,>=1.7.0 in /usr/local/lib/python3.12/dist-packages (from groq) (1.9.0)\n",
            "Requirement already satisfied: httpx<1,>=0.23.0 in /usr/local/lib/python3.12/dist-packages (from groq) (0.28.1)\n",
            "Requirement already satisfied: pydantic<3,>=1.9.0 in /usr/local/lib/python3.12/dist-packages (from groq) (2.11.7)\n",
            "Requirement already satisfied: sniffio in /usr/local/lib/python3.12/dist-packages (from groq) (1.3.1)\n",
            "Requirement already satisfied: typing-extensions<5,>=4.10 in /usr/local/lib/python3.12/dist-packages (from groq) (4.15.0)\n",
            "Requirement already satisfied: idna>=2.8 in /usr/local/lib/python3.12/dist-packages (from anyio<5,>=3.5.0->groq) (3.10)\n",
            "Requirement already satisfied: certifi in /usr/local/lib/python3.12/dist-packages (from httpx<1,>=0.23.0->groq) (2025.8.3)\n",
            "Requirement already satisfied: httpcore==1.* in /usr/local/lib/python3.12/dist-packages (from httpx<1,>=0.23.0->groq) (1.0.9)\n",
            "Requirement already satisfied: h11>=0.16 in /usr/local/lib/python3.12/dist-packages (from httpcore==1.*->httpx<1,>=0.23.0->groq) (0.16.0)\n",
            "Requirement already satisfied: annotated-types>=0.6.0 in /usr/local/lib/python3.12/dist-packages (from pydantic<3,>=1.9.0->groq) (0.7.0)\n",
            "Requirement already satisfied: pydantic-core==2.33.2 in /usr/local/lib/python3.12/dist-packages (from pydantic<3,>=1.9.0->groq) (2.33.2)\n",
            "Requirement already satisfied: typing-inspection>=0.4.0 in /usr/local/lib/python3.12/dist-packages (from pydantic<3,>=1.9.0->groq) (0.4.1)\n"
          ]
        }
      ],
      "source": [
        "pip install groq"
      ]
    },
    {
      "cell_type": "code",
      "execution_count": 18,
      "id": "7ca12b2d",
      "metadata": {
        "id": "7ca12b2d"
      },
      "outputs": [],
      "source": [
        "from groq import Groq\n",
        "from IPython.display import Markdown\n",
        "\n",
        "client = Groq(api_key=\"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\")\n",
        "\n",
        "def ask_groq(prompt,\n",
        "             system_message=\"You are a helpful assistant.\",\n",
        "             model=\"deepseek-r1-distill-llama-70b\",\n",
        "             temperature=0.7):\n",
        "\n",
        "    response = client.chat.completions.create(\n",
        "        messages=[\n",
        "            {\"role\": \"system\", \"content\": system_message},\n",
        "            {\"role\": \"user\", \"content\": prompt},\n",
        "        ],\n",
        "        model=model,\n",
        "        temperature=temperature\n",
        "    )\n",
        "    return response.choices[0].message.content"
      ]
    },
    {
      "cell_type": "code",
      "execution_count": 28,
      "id": "5acc17f8",
      "metadata": {
        "colab": {
          "base_uri": "https://localhost:8080/",
          "height": 105
        },
        "id": "5acc17f8",
        "outputId": "8a7c290b-eeb2-424a-821c-6f3961e7a865"
      },
      "outputs": [
        {
          "output_type": "execute_result",
          "data": {
            "text/plain": [
              "'<think>\\nOkay, so I need to figure out the difference between artificial intelligence and deep learning. I\\'m a bit confused because I hear these terms a lot, especially in tech news and stuff. Let me start by breaking down what each term means.\\n\\nFirst, artificial intelligence, or AI. I think AI refers to machines that can do things that usually require human intelligence. Like, things such as understanding language, recognizing images, making decisions, or solving problems. I remember hearing about AI being used in things like Siri or self-driving cars. So AI seems pretty broad, covering a range of technologies that make machines smarter.\\n\\nThen there\\'s deep learning. I\\'ve heard that deep learning is a part of AI, but I\\'m not exactly sure how. I think it has something to do with neural networks, maybe inspired by the human brain. Neural networks with many layers, hence \"deep.\" I remember reading that deep learning is behind things like facial recognition in photos or voice assistants. So maybe deep learning is a specific type of AI that\\'s particularly good at certain tasks?\\n\\nWait, so AI is the broader field, and deep learning is a subset within AI. That makes sense because AI includes various approaches, like rule-based systems or machine learning. Oh right, machine learning is another term I\\'ve heard. So machine learning is a type of AI where systems can learn from data without being explicitly programmed. And deep learning is a subset of machine learning that uses these deep neural networks.\\n\\nI think the key difference is that AI is the overall concept of making machines intelligent, while deep learning is a specific technique within AI that\\'s really good at handling complex data like images, speech, and text. So AI can include other things like decision trees, support vector machines, or even simple rule-based systems, not just deep learning.\\n\\nBut I\\'m a bit fuzzy on the exact boundaries. Let me think of examples. AI could be something like a chatbot that uses predefined rules to answer questions, whereas deep learning would be used in a more complex system, like understanding natural language processing tasks or recognizing objects in images.\\n\\nSo, in summary, AI is the broader field aimed at creating intelligent machines, while deep learning is a specific approach within AI that uses multi-layered neural networks to learn from data, particularly effective in areas like computer vision and NLP.\\n\\nI should also consider the historical context. AI has been around for a long time, with early approaches focusing on rule-based systems. Machine learning became more prominent as a way to let machines learn from data, and deep learning is a recent advancement within machine learning that\\'s driven progress in areas like image and speech recognition.\\n\\nAnother point is that deep learning requires a lot of data and computational power, which is why it\\'s become more prevalent with the rise of big data and GPUs. AI, on the other hand, can operate on a range of data sizes and computational resources, depending on the approach.\\n\\nSo, to make sure I have this straight: AI is the overarching concept, machine learning is a part of AI focused on learning from data, and deep learning is a subset of machine learning that uses deep neural networks. Therefore, all deep learning is AI, but not all AI is deep learning.\\n\\nI think that\\'s a solid understanding. Now, I should be able to explain the difference clearly, starting from the broadest term and moving to the more specific ones.\\n</think>\\n\\n**Answer:**\\n\\nArtificial Intelligence (AI), Machine Learning (ML), and Deep Learning (DL) are terms that are often used interchangeably but have distinct meanings within the hierarchy of intelligent systems.\\n\\n1. **Artificial Intelligence (AI):**\\n   - **Definition:** AI refers to the broad field of creating machines that can perform tasks typically requiring human intelligence. These tasks include understanding language, recognizing images, making decisions, and solving problems.\\n   - **Scope:** AI is the overarching concept that encompasses various techniques, including rule-based systems, decision trees, and machine learning. It aims to simulate human intelligence in machines.\\n   - **Examples:** AI applications include chatbots, recommendation systems, and self-driving cars.\\n\\n2. **Machine Learning (ML):**\\n   - **Definition:** ML is a subset of AI that focuses on developing algorithms that allow machines to learn from and make decisions based on data without being explicitly programmed.\\n   - **Scope:** ML involves training models on data to enable predictive and decision-making capabilities. It is a key component of AI, emphasizing learning from data.\\n   - **Examples:** Applications include spam detection, predictive analytics, and personalized recommendations.\\n\\n3. **Deep Learning (DL):**\\n   - **Definition:** DL is a subset of ML that uses artificial neural networks with multiple layers to learn complex patterns in data. Inspired by the structure and function of the human brain, DL models can automatically learn and improve on their own by adjusting the connections between layers.\\n   - **Scope:** DL is particularly effective in handling complex, unstructured data such as images, speech, and text. It requires large amounts of data and computational resources.\\n   - **Examples:** Applications include facial recognition, natural language processing, and image classification.\\n\\n**Hierarchy and Relationship:**\\n- All Deep Learning is Machine Learning, and all Machine Learning is Artificial Intelligence, but not all AI or ML is Deep Learning. DL is a specialized approach within ML, which itself is a part of the broader AI field.\\n\\n**Summary:**\\nAI is the broadest concept, encompassing various methods to create intelligent machines. ML is a subset of AI focused on learning from data, and DL is a specific technique within ML that uses deep neural networks for complex data processing. Understanding this hierarchy helps clarify the roles and applications of each technology in modern computing.'"
            ],
            "application/vnd.google.colaboratory.intrinsic+json": {
              "type": "string"
            }
          },
          "metadata": {},
          "execution_count": 28
        }
      ],
      "source": [
        "ask_groq(\"Explain the difference between artificial intelligence and deep learning.\")"
      ]
    },
    {
      "cell_type": "code",
      "execution_count": 20,
      "id": "9754695d",
      "metadata": {
        "id": "9754695d"
      },
      "outputs": [],
      "source": [
        "import re\n",
        "\n",
        "def remove_thinking(text):\n",
        "\n",
        "    cleaned_text = re.sub(r\"<think>.*?</think>\", \"\", text, flags=re.DOTALL)\n",
        "\n",
        "    return cleaned_text.strip()"
      ]
    },
    {
      "cell_type": "code",
      "source": [
        "Markdown(ask_groq(\"Explain the difference between artificial intelligence and deep learning.\")) # The Answer with the model thinking"
      ],
      "metadata": {
        "colab": {
          "base_uri": "https://localhost:8080/",
          "height": 690
        },
        "id": "XobSQN7Y7bd2",
        "outputId": "741808b8-f46a-4529-d337-5bd01d9b2965"
      },
      "id": "XobSQN7Y7bd2",
      "execution_count": 30,
      "outputs": [
        {
          "output_type": "execute_result",
          "data": {
            "text/plain": [
              "<IPython.core.display.Markdown object>"
            ],
            "text/markdown": "<think>\nOkay, so I need to explain the difference between artificial intelligence and deep learning. Hmm, I'm a bit confused about where one starts and the other ends. I've heard both terms used a lot, especially in tech articles and maybe even in some movies. Let me try to break this down.\n\nFirst, artificial intelligence. I think AI refers to machines that can perform tasks that usually require human intelligence. Like, robots that can solve problems or recognize pictures. I remember hearing about AI in the context of self-driving cars and virtual assistants like Siri or Alexa. So, AI is the broader concept, right? It's about creating systems that can do smart things without being explicitly programmed for every little task.\n\nNow, deep learning. I'm not as clear on this one. I think it's a subset of AI, but I'm not entirely sure. I remember something about neural networks and layers. Maybe it's a specific type of machine learning, which itself is a part of AI. So, machine learning is where systems learn from data without being explicitly told what to do. Deep learning must be a more complex version of that, perhaps using multiple layers of algorithms to model data.\n\nWait, so AI is the overall field, and deep learning is a technique within AI. That makes sense. Like how a car is a vehicle, and a Tesla is a specific type of electric car. So, AI includes various approaches, and deep learning is one of the methods used in AI.\n\nI'm trying to remember if there are other types of AI besides deep learning. Maybe rule-based systems or decision trees? Those might be simpler forms of AI that don't use the layered approach of deep learning. So, AI can be split into categories, and deep learning is part of the machine learning category, which is a subset of AI.\n\nSo, in summary, AI is the big umbrella covering all intelligent systems, and deep learning is a specific technique under that umbrella, particularly known for its use of neural networks with many layers to learn from data.\n\nI should probably check if I'm mixing up machine learning and deep learning. I think machine learning is about algorithms learning from data, and deep learning is a type of machine learning that uses deep neural networks. So, the hierarchy is AI > Machine Learning > Deep Learning.\n\nI think that's it. AI is the broad field, machine learning is a part of AI focused on learning from data, and deep learning is a specialized part of machine learning using complex neural networks.\n</think>\n\n**Answer:**\n\nThe terms Artificial Intelligence (AI), Machine Learning, and Deep Learning are often used interchangeably, but they represent distinct concepts within a hierarchical structure.\n\n1. **Artificial Intelligence (AI):**  \n   AI is the broadest term, referring to the development of computer systems that can perform tasks typically requiring human intelligence. These tasks include problem-solving, decision-making, speech recognition, and more. Examples include virtual assistants like Siri and self-driving cars.\n\n2. **Machine Learning (ML):**  \n   Machine Learning is a subset of AI focused on the development of algorithms that allow systems to learn from data without explicit programming. It enables systems to improve at tasks through experience, making it a key component of modern AI.\n\n3. **Deep Learning (DL):**  \n   Deep Learning is a specific type of Machine Learning that utilizes neural networks with multiple layers to model complex patterns in data. These deep neural networks are particularly effective in tasks like image and speech recognition, exemplified by technologies such as facial recognition systems.\n\nIn summary, AI is the overarching field, with Machine Learning as a subset focused on learning from data, and Deep Learning as a specialized approach within Machine Learning that employs deep neural networks. This hierarchy is often depicted as AI > Machine Learning > Deep Learning."
          },
          "metadata": {},
          "execution_count": 30
        }
      ]
    },
    {
      "cell_type": "code",
      "execution_count": 31,
      "id": "a10c9507",
      "metadata": {
        "colab": {
          "base_uri": "https://localhost:8080/",
          "height": 498
        },
        "id": "a10c9507",
        "outputId": "a42bd611-195e-4b24-abbb-eb2826dfd235"
      },
      "outputs": [
        {
          "output_type": "execute_result",
          "data": {
            "text/plain": [
              "<IPython.core.display.Markdown object>"
            ],
            "text/markdown": "**Explanation of the Differences Between Artificial Intelligence, Machine Learning, and Deep Learning**\n\n1. **Artificial Intelligence (AI):**\n   - **Definition:** AI is the broad field focused on creating machines that can perform tasks typically requiring human intelligence. These tasks include understanding language, recognizing images, making decisions, and solving problems.\n   - **Scope:** AI encompasses various techniques beyond learning from data, such as rule-based systems (expert systems) and robotics following specific instructions.\n   - **Examples:** Expert systems, robotics, and optimization techniques.\n\n2. **Machine Learning (ML):**\n   - **Definition:** A subset of AI, machine learning involves systems that improve at tasks through experience, learning from data without explicit programming.\n   - **Scope:** Focuses on algorithms that learn patterns and relationships in data to make predictions or decisions.\n   - **Examples:** Recommendation systems (Netflix, Spotify), spam filters.\n\n3. **Deep Learning (DL):**\n   - **Definition:** A specific type of machine learning that uses deep neural networks, inspired by the human brain, with multiple layers to learn complex patterns.\n   - **Scope:** Excels in tasks like image and speech recognition due to its ability to handle large datasets and complex data.\n   - **Examples:** Image recognition in self-driving cars, speech recognition systems.\n\n**Hierarchy and Relationship:**\n- **AI** is the overarching field.\n- **Machine Learning** is a subset of AI, focusing on learning from data.\n- **Deep Learning** is a subset of Machine Learning, using deep neural networks.\n\nThis hierarchy clarifies how each area relates and fits within the broader context of AI. The popularity of deep learning is attributed to advances in computing power and large datasets, enabling complex task handling."
          },
          "metadata": {},
          "execution_count": 31
        }
      ],
      "source": [
        "Markdown(remove_thinking(ask_groq(\"Explain the difference between artificial intelligence and deep learning.\"))) # The Answer without the model thinking"
      ]
    },
    {
      "cell_type": "code",
      "execution_count": 32,
      "id": "3c2366fb",
      "metadata": {
        "colab": {
          "base_uri": "https://localhost:8080/",
          "height": 734
        },
        "id": "3c2366fb",
        "outputId": "a839f4ec-0d92-4267-d9e6-20d69c7f35a8"
      },
      "outputs": [
        {
          "output_type": "execute_result",
          "data": {
            "text/plain": [
              "<IPython.core.display.Markdown object>"
            ],
            "text/markdown": "**Artificial Intelligence: An Overview and Reflection**\n\nArtificial Intelligence (AI) is a dynamic and transformative field aimed at creating systems that mimic human intelligence in tasks like learning, problem-solving, perception, reasoning, and decision-making. Here's a structured overview of the key concepts, applications, challenges, and future directions:\n\n### Key Concepts:\n1. **AI vs. Machine Learning vs. Deep Learning**:\n   - **AI** is the broad field focusing on creating systems that perform human-like tasks.\n   - **Machine Learning** is a subset of AI that involves algorithms learning from data.\n   - **Deep Learning** is a subset of Machine Learning using neural networks inspired by the human brain.\n\n2. **Types of AI**:\n   - **Narrow AI**: Designed for specific tasks (e.g., facial recognition, language translation).\n   - **General AI**: A theoretical system with human-like intelligence across diverse tasks, not yet achieved.\n\n### Applications:\n- **Healthcare**: AI aids in disease diagnosis and personalized treatment plans.\n- **Finance**: Detects fraud and manages investments.\n- **Transportation**: Enables autonomous vehicles.\n- **Education**: Provides personalized learning tools.\n\n### Challenges:\n- **Ethical Considerations**: Includes bias in AI systems, privacy concerns, and the need for transparency and accountability.\n- **Environmental Impact**: Training large models requires significant computational resources and energy.\n\n### Future Directions:\n- **Integration and Advancements**: Increased integration into everyday life, more autonomous systems, and improved natural language understanding.\n- **Job Impact**: While automating tasks, AI creates new opportunities in development, data science, and ethics.\n- **Limitations**: Lack of human qualities like emotions and creativity, emphasizing the need for human-AI collaboration.\n\n### Educational and Ethical Considerations:\n- **Interdisciplinary Approach**: Studying AI requires knowledge in computer science, mathematics, statistics, and domain-specific areas.\n- **Ethical Frameworks**: Essential for responsible AI use, ensuring privacy, avoiding bias, and maintaining transparency.\n\n### Conclusion:\nAI is a rapidly evolving field with vast potential to transform industries. While it presents challenges, the benefits are substantial, making it an exciting and important area of study and development. As AI advances, addressing ethical, environmental, and societal implications will be crucial for its responsible integration into our world."
          },
          "metadata": {},
          "execution_count": 32
        }
      ],
      "source": [
        "Markdown(remove_thinking(ask_groq(\"Artificial Intelligence is a field that aims to\", system_message=\"You are an expert in computer science.\")))"
      ]
    },
    {
      "cell_type": "code",
      "execution_count": 33,
      "id": "389d2171",
      "metadata": {
        "colab": {
          "base_uri": "https://localhost:8080/",
          "height": 739
        },
        "id": "389d2171",
        "outputId": "4cd43931-aeab-498d-fcfb-5cefeb0f2731"
      },
      "outputs": [
        {
          "output_type": "execute_result",
          "data": {
            "text/plain": [
              "<IPython.core.display.Markdown object>"
            ],
            "text/markdown": "**Chapter 2: The Guardian's Tale**\n\nElara ventured deeper into the woods, the silence pressing heavily around her. The trees loomed taller, their branches like skeletal fingers reaching towards the sky. She had been walking for hours, the sunlight filtering through the canopy in dappled patterns on the forest floor. As she pushed through a thicket, she stumbled into a clearing, and her breath caught in her throat.\n\nIn the center of the clearing stood an ancient tree, its trunk gnarled and twisted with age. Once majestic, it now looked frail, its bark peeling and its branches bare. The air around it felt heavy, as if the tree itself were sighed in despair. Elara approached it cautiously, sensing a deep sorrow emanating from it.\n\nCarved into the trunk were symbols she had never seen before—strange markings that seemed to pulse faintly in the dim light. They reminded her of Thorne's warning about the darkness growing within the woods. As she reached out to touch the symbols, a low, rumbling voice spoke from behind her.\n\n\"You shouldn't be here, child.\"\n\nElara spun around, her heart racing. Before her stood a magnificent stag, its antlers reaching towards the sky, its eyes glowing with an ethereal light. It regarded her with a solemn expression, as if it held the weight of centuries in its gaze.\n\n\"I could say the same of you,\" Elara replied, her voice steady despite her fear. \"Who are you?\"\n\n\"I am the Guardian of the Woods,\" the stag replied, its voice resonating deeply within her. \"And you, Elara, are a curious soul indeed.\"\n\nElara took a step forward, her curiosity overriding her caution. \"What's happening to the forest? Why is it so silent?\"\n\nThe stag lowered its head, its antlers casting long shadows on the ground. \"The forest is dying. A darkness, ancient and evil, has returned. It feeds on the life force of the woods, silencing the whispers and draining the magic from the land.\"\n\nElara's heart sank. \"What is this darkness?\"\n\nThe stag's eyes clouded, as if memories long buried were rising to the surface. \"It is an evil that was once defeated by your ancestors, but it has returned, stronger and more malevolent than before. It seeks to consume everything in its path.\"\n\nElara felt a shiver run down her spine. \"And what can I do to stop it?\"\n\nThe stag regarded her for a moment, then nodded its great head. \"You have heard the whispers, Elara. They are the forest's last attempt to communicate, to warn of the impending doom. You have a role to play in this, one that only you can fulfill.\"\n\nAs the stag spoke, the symbols on the ancient tree began to glow brighter, casting an eerie light over the clearing. Elara felt a strange energy emanating from them, as if they were trying to convey a message directly to her.\n\nSuddenly, the air around her seemed to thicken, and the silence was replaced by a low, ominous hum. The stag's eyes snapped towards the edge of the clearing, its ears twitching.\n\n\"It comes,\" it whispered urgently. \"You must leave, Elara. Now.\"\n\nElara hesitated, but the stag's tone brooked no argument. She turned and fled, the hum growing louder behind her. As she ran, she could feel the darkness closing in, its presence oppressive and suffocating.\n\nShe didn't stop until she reached the edge of the forest, gasping for breath. The village was in sight, but she knew she couldn't stay there. The darkness was spreading, and she had to find a way to stop it before it was too late.\n\nElara looked back at the forest, the ancient tree's symbols still glowing faintly in the distance. She knew she would return, armed with the knowledge she had gained and a determination to save the forest and her home. The whispers would guide her, and she was ready to face whatever lay ahead.\n\nThe journey had just begun, and Elara was more resolute than ever to uncover the truth and restore the forest's voice."
          },
          "metadata": {},
          "execution_count": 33
        }
      ],
      "source": [
        "Markdown(remove_thinking(ask_groq(\"Once upon a time, in a small village surrounded by mountains,\", system_message=\"You are a creative story writer.\")))"
      ]
    },
    {
      "cell_type": "markdown",
      "id": "0270625a",
      "metadata": {
        "id": "0270625a"
      },
      "source": [
        "# Question and Answer (سؤال وجواب)"
      ]
    },
    {
      "cell_type": "code",
      "execution_count": 34,
      "id": "3eb74798",
      "metadata": {
        "colab": {
          "base_uri": "https://localhost:8080/",
          "height": 411
        },
        "id": "3eb74798",
        "outputId": "773fd928-81fc-4a5e-9a8d-5056595ff58e"
      },
      "outputs": [
        {
          "output_type": "execute_result",
          "data": {
            "text/plain": [
              "<IPython.core.display.Markdown object>"
            ],
            "text/markdown": "**Answer:**\n\nIn machine learning, supervised and unsupervised learning are two fundamental approaches that differ in how they process data and the tasks they are designed to perform.\n\n1. **Supervised Learning:**\n   - **Definition:** This approach uses labeled data, where each example is paired with a target output. The model learns the mapping between input features and the target variable.\n   - **Algorithms:** Common algorithms include linear regression, decision trees, logistic regression, support vector machines (SVM), and k-nearest neighbors (KNN).\n   - **Use Cases:** Suitable for classification tasks (e.g., spam detection) and regression tasks (e.g., predicting house prices).\n   - **Evaluation:** Metrics include accuracy, precision, recall, F1 score, mean squared error, and R-squared.\n\n2. **Unsupervised Learning:**\n   - **Definition:** This approach uses unlabeled data, aiming to find hidden patterns, groupings, or relationships within the data without prior knowledge of the output.\n   - **Algorithms:** Common algorithms include k-means clustering, hierarchical clustering, and Principal Component Analysis (PCA).\n   - **Use Cases:** Ideal for exploratory data analysis, customer segmentation, anomaly detection, and dimensionality reduction.\n   - **Evaluation:** Metrics include silhouette score for clustering quality and explained variance ratio for PCA.\n\nIn summary, supervised learning is used for prediction tasks with labeled data, while unsupervised learning explores data to uncover underlying structures without labeled outputs. Each approach has distinct algorithms and applications, and understanding their differences is crucial for selecting the appropriate method for a given problem."
          },
          "metadata": {},
          "execution_count": 34
        }
      ],
      "source": [
        "Markdown(remove_thinking(ask_groq(\"What is the difference between supervised and unsupervised learning?\", system_message=\"You are a data science teacher.\")))"
      ]
    },
    {
      "cell_type": "markdown",
      "id": "ff93377c",
      "metadata": {
        "id": "ff93377c"
      },
      "source": [
        "# Summarization (تلخيص نص)\n",
        "\n",
        "\n",
        "\n"
      ]
    },
    {
      "cell_type": "code",
      "execution_count": 35,
      "id": "07a73570",
      "metadata": {
        "colab": {
          "base_uri": "https://localhost:8080/",
          "height": 64
        },
        "id": "07a73570",
        "outputId": "b4fc9fe8-74e0-4c5a-c163-adcfc8eddea1"
      },
      "outputs": [
        {
          "output_type": "execute_result",
          "data": {
            "text/plain": [
              "<IPython.core.display.Markdown object>"
            ],
            "text/markdown": "Artificial intelligence (AI) involves simulating human intelligence in machines programmed to think and learn, with applications across industries like healthcare, finance, and transportation, including tasks such as natural language processing, computer vision, and decision-making."
          },
          "metadata": {},
          "execution_count": 35
        }
      ],
      "source": [
        "long_text = \"\"\"\n",
        "Artificial intelligence (AI) refers to the simulation of human intelligence in machines that are programmed to think and learn.\n",
        "AI is being used across various industries, including healthcare, finance, transportation, and more.\n",
        "Its applications range from natural language processing to computer vision and decision-making systems.\n",
        "\"\"\"\n",
        "Markdown(remove_thinking(ask_groq(f\"Please summarize the following text:\\n{long_text}\", system_message=\"You are a professional summarizer.\")))\n"
      ]
    }
  ],
  "metadata": {
    "kernelspec": {
      "display_name": "Python (myenv)",
      "language": "python",
      "name": "myenv"
    },
    "language_info": {
      "codemirror_mode": {
        "name": "ipython",
        "version": 3
      },
      "file_extension": ".py",
      "mimetype": "text/x-python",
      "name": "python",
      "nbconvert_exporter": "python",
      "pygments_lexer": "ipython3",
      "version": "3.10.11"
    },
    "colab": {
      "provenance": []
    }
  },
  "nbformat": 4,
  "nbformat_minor": 5
}